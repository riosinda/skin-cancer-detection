{
 "cells": [
  {
   "cell_type": "markdown",
   "metadata": {},
   "source": [
    "# Gray-scale image features extraction"
   ]
  },
  {
   "cell_type": "code",
   "execution_count": null,
   "metadata": {},
   "outputs": [],
   "source": [
    "import SimpleITK as sitk\n",
    "import numpy as np\n",
    "import cv2\n",
    "import os"
   ]
  },
  {
   "cell_type": "code",
   "execution_count": null,
   "metadata": {},
   "outputs": [],
   "source": [
    "# Directorios de imágenes y segmentaciones\n",
    "img_path = \"../data/HAM10000/images/ISIC_0024306.jpg\"  # Imagen en formato JPG\n",
    "mask_path = \"../data/HAM10000/segmentations/ISIC_0024306_segmentation.png\"  # Máscara en formato PNG"
   ]
  },
  {
   "cell_type": "code",
   "execution_count": null,
   "metadata": {},
   "outputs": [],
   "source": [
    "# Leer imagen con OpenCV y convertir a escala de grises si es necesario\n",
    "img = cv2.imread(img_path, cv2.IMREAD_GRAYSCALE)  # PyRadiomics usa imágenes en escala de grises\n",
    "\n",
    "# Leer máscara con OpenCV\n",
    "mask = cv2.imread(mask_path, cv2.IMREAD_GRAYSCALE)\n",
    "\n",
    "# Convertir a formato Numpy y asegurarse de que los valores sean binarios en la máscara\n",
    "mask = np.where(mask > 0, 1, 0).astype(np.uint8)\n",
    "\n",
    "# Convertir la imagen y máscara a objetos SimpleITK\n",
    "img_sitk = sitk.GetImageFromArray(img)\n",
    "mask_sitk = sitk.GetImageFromArray(mask)\n",
    "\n",
    "# Guardar como NIfTI (.nii.gz)\n",
    "sitk.WriteImage(img_sitk, \"test_output/gray/imagen.nii.gz\")\n",
    "sitk.WriteImage(mask_sitk, \"test_output/gray/segmentacion.nii.gz\")\n",
    "\n",
    "print(\"Conversión completada: imagen.nii.gz y segmentacion.nii.gz generadas.\")"
   ]
  },
  {
   "cell_type": "code",
   "execution_count": null,
   "metadata": {},
   "outputs": [],
   "source": [
    "from radiomics import featureextractor\n",
    "import radiomics\n",
    "import pandas as pd\n",
    "import SimpleITK as sitk\n",
    "import logging\n",
    "radiomics.setVerbosity(logging.ERROR)\n",
    "\n",
    "# Cargar la imagen y la máscara en formato NIfTI\n",
    "imagen = sitk.ReadImage(\"test_output/gray/imagen.nii.gz\")\n",
    "mascara = sitk.ReadImage(\"test_output/gray/segmentacion.nii.gz\")\n",
    "\n",
    "# Ver dimensiones\n",
    "print(\"Dimensiones de la imagen:\", imagen.GetSize())\n",
    "print(\"Dimensiones de la máscara:\", mascara.GetSize())\n",
    "\n",
    "# Crear extractor\n",
    "extractor = featureextractor.RadiomicsFeatureExtractor()\n",
    "\n",
    "# Desactivar todas las características por defecto\n",
    "extractor.disableAllFeatures()\n",
    "\n",
    "# Activar las clases de características que queremos calcular\n",
    "features = [\"firstorder\", \"glcm\", \"gldm\", \"glrlm\", \"glszm\", \"ngtdm\", \"shape2D\"]\n",
    "for feature in features:\n",
    "    extractor.enableFeatureClassByName(feature)\n",
    "\n",
    "# Extraer características\n",
    "resultados = extractor.execute(imagen, mascara)\n",
    "\n",
    "# Convertir a DataFrame y guardar\n",
    "df_resultados = pd.DataFrame.from_dict(resultados, orient=\"index\", columns=[\"Valor\"])\n",
    "df_resultados.to_csv(\"test_output/gray/caracteristicas_radiomicas.csv\")\n",
    "\n",
    "print(\"Extracción completada: características guardadas en caracteristicas_radiomicas.csv\")\n"
   ]
  },
  {
   "cell_type": "code",
   "execution_count": null,
   "metadata": {},
   "outputs": [],
   "source": [
    "df_resultados.head(-1)"
   ]
  },
  {
   "cell_type": "markdown",
   "metadata": {},
   "source": [
    "# Color-scale image features straction"
   ]
  },
  {
   "cell_type": "code",
   "execution_count": null,
   "metadata": {},
   "outputs": [],
   "source": [
    "import SimpleITK as sitk\n",
    "import numpy as np\n",
    "import cv2\n",
    "import os"
   ]
  },
  {
   "cell_type": "code",
   "execution_count": null,
   "metadata": {},
   "outputs": [],
   "source": [
    "# Directorios de imágenes y segmentaciones\n",
    "img_path = \"../data/HAM10000/images/ISIC_0024306.jpg\"  # Imagen en formato JPG\n",
    "mask_path = \"../data/HAM10000/segmentations/ISIC_0024306_segmentation.png\"  # Máscara en formato PNG"
   ]
  },
  {
   "cell_type": "code",
   "execution_count": null,
   "metadata": {},
   "outputs": [],
   "source": [
    "# Leer imagen con OpenCV \n",
    "img = cv2.imread(img_path, cv2.IMREAD_COLOR)\n",
    "\n",
    "img_r = img[:, :, 2]  # Canal Rojo\n",
    "img_g = img[:, :, 1]  # Canal Verde\n",
    "img_b = img[:, :, 0]  # Canal Azul\n",
    "\n",
    "# Leer máscara con OpenCV\n",
    "mask = cv2.imread(mask_path, cv2.IMREAD_GRAYSCALE)\n",
    "\n",
    "# Convertir a formato Numpy y asegurarse de que los valores sean binarios en la máscara\n",
    "mask = np.where(mask > 0, 1, 0).astype(np.uint8)\n",
    "\n",
    "# Convertir la imagen y máscara a objetos SimpleITK\n",
    "img_r_sitk = sitk.GetImageFromArray(img_r)\n",
    "img_g_sitk = sitk.GetImageFromArray(img_g)\n",
    "img_b_sitk = sitk.GetImageFromArray(img_b)\n",
    "\n",
    "mask_sitk = sitk.GetImageFromArray(mask)\n",
    "\n",
    "# Guardar como NIfTI (.nii.gz)\n",
    "sitk.WriteImage(img_r_sitk, \"test_output/color/imagen_rojo.nii.gz\")\n",
    "sitk.WriteImage(img_g_sitk, \"test_output/color/imagen_verde.nii.gz\")\n",
    "sitk.WriteImage(img_b_sitk, \"test_output/color/imagen_azul.nii.gz\")\n",
    "\n",
    "sitk.WriteImage(mask_sitk, \"test_output/color/segmentacion.nii.gz\")\n",
    "\n",
    "print(\"Conversión completada: imagen_rojo.nii.gz, imagen_verde.nii.gz, imagen_azul.nii.gz y segmentacion.nii.gz generadas.\")"
   ]
  },
  {
   "cell_type": "code",
   "execution_count": null,
   "metadata": {},
   "outputs": [],
   "source": [
    "from radiomics import featureextractor\n",
    "import pandas as pd\n",
    "import SimpleITK as sitk\n",
    "import radiomics\n",
    "import logging\n",
    "radiomics.setVerbosity(logging.ERROR)\n",
    "\n",
    "# Cargar la imagen y la máscara en formato NIfTI\n",
    "imagen_r = sitk.ReadImage(\"test_output/color/imagen_rojo.nii.gz\")\n",
    "imagen_g = sitk.ReadImage(\"test_output/color/imagen_verde.nii.gz\")\n",
    "imagen_b = sitk.ReadImage(\"test_output/color/imagen_azul.nii.gz\")\n",
    "mascara = sitk.ReadImage(\"test_output/color/segmentacion.nii.gz\")\n",
    "\n",
    "# Ver dimensiones\n",
    "print(\"Dimensiones de la imagen roja:\", imagen_r.GetSize())\n",
    "print(\"Dimensiones de la imagen verde:\", imagen_g.GetSize())\n",
    "print(\"Dimensiones de la imagen azul:\", imagen_b.GetSize())\n",
    "\n",
    "# Crear extractor\n",
    "extractor = featureextractor.RadiomicsFeatureExtractor()\n",
    "\n",
    "# Desactivar todas las características por defecto\n",
    "extractor.disableAllFeatures()\n",
    "\n",
    "# Activar las clases de características que queremos calcular\n",
    "features = [\"firstorder\", \"glcm\", \"gldm\", \"glrlm\", \"glszm\", \"ngtdm\", \"shape2D\"]\n",
    "for feature in features:\n",
    "    extractor.enableFeatureClassByName(feature)\n",
    "\n",
    "\n",
    "# Extraer características\n",
    "resultados_r = extractor.execute(imagen_r, mascara)\n",
    "resultados_g = extractor.execute(imagen_g, mascara)\n",
    "resultados_b = extractor.execute(imagen_b, mascara)\n",
    "\n",
    "# Convertir a DataFrame y guardar\n",
    "df_resultados_r = pd.DataFrame.from_dict(resultados_r, orient=\"index\", columns=[\"Valor\"])\n",
    "df_resultados_g = pd.DataFrame.from_dict(resultados_g, orient=\"index\", columns=[\"Valor\"])\n",
    "df_resultados_b = pd.DataFrame.from_dict(resultados_b, orient=\"index\", columns=[\"Valor\"])\n",
    "\n",
    "df_resultados_r.to_csv(\"test_output/color/caracteristicas_radiomicas_rojo.csv\")\n",
    "df_resultados_g.to_csv(\"test_output/color/caracteristicas_radiomicas_verde.csv\")\n",
    "df_resultados_b.to_csv(\"test_output/color/caracteristicas_radiomicas_azul.csv\")\n",
    "\n"
   ]
  },
  {
   "cell_type": "markdown",
   "metadata": {},
   "source": [
    "## Images conversion"
   ]
  },
  {
   "cell_type": "code",
   "execution_count": 7,
   "metadata": {},
   "outputs": [],
   "source": [
    "import os\n",
    "import pandas as pd\n",
    "import numpy as np\n",
    "import cv2\n",
    "import SimpleITK as sitk"
   ]
  },
  {
   "cell_type": "code",
   "execution_count": 5,
   "metadata": {},
   "outputs": [],
   "source": [
    "image_folder = \"../data/HAM10000/images/\"\n",
    "mask_folder = \"../data/HAM10000/segmentations/\""
   ]
  },
  {
   "cell_type": "code",
   "execution_count": 8,
   "metadata": {},
   "outputs": [],
   "source": [
    "image_files = os.listdir(image_folder)\n",
    "mask_files = os.listdir(mask_folder)"
   ]
  },
  {
   "cell_type": "code",
   "execution_count": 10,
   "metadata": {},
   "outputs": [],
   "source": [
    "# Crear directorios de salida\n",
    "output_types = [\"images/blue/\", \"images/green/\", \"images/red/\", \"images/gray/\"]\n",
    "output_main_dir = \"output/data/\"\n",
    "output_dirs = [os.path.join(output_main_dir, x) for x in output_types]\n",
    "output_segmentation_dir = os.path.join(output_main_dir, \"segmentations/\")"
   ]
  },
  {
   "cell_type": "code",
   "execution_count": null,
   "metadata": {},
   "outputs": [],
   "source": [
    "print(output_segmentation_dir)"
   ]
  },
  {
   "cell_type": "code",
   "execution_count": null,
   "metadata": {},
   "outputs": [],
   "source": [
    "print(output_dirs)"
   ]
  },
  {
   "cell_type": "code",
   "execution_count": null,
   "metadata": {},
   "outputs": [],
   "source": [
    "from tqdm import tqdm\n",
    "\n",
    "for image in tqdm(image_files, desc=\"Procesando imágenes\"):\n",
    "    # Leer imagen\n",
    "    img_path = os.path.join(image_folder, image)\n",
    "    img = cv2.imread(img_path, cv2.IMREAD_COLOR)\n",
    "    img_gray = cv2.imread(img_path, cv2.IMREAD_GRAYSCALE)\n",
    "    \n",
    "    # Separar canales\n",
    "    img_r = img[:, :, 2]  # Canal Rojo\n",
    "    img_g = img[:, :, 1]  # Canal Verde\n",
    "    img_b = img[:, :, 0]  # Canal Azul\n",
    "    \n",
    "    # Guardar imágenes\n",
    "    img_r_sitk = sitk.GetImageFromArray(img_r)\n",
    "    img_g_sitk = sitk.GetImageFromArray(img_g)\n",
    "    img_b_sitk = sitk.GetImageFromArray(img_b)\n",
    "    img_gray_sitk = sitk.GetImageFromArray(img_gray)\n",
    "    sitk.WriteImage(img_r_sitk, output_dirs[2]+ image.replace(\".jpg\", \".nii.gz\"))\n",
    "    sitk.WriteImage(img_g_sitk, output_dirs[1]+ image.replace(\".jpg\", \".nii.gz\"))\n",
    "    sitk.WriteImage(img_b_sitk, output_dirs[0]+ image.replace(\".jpg\", \".nii.gz\"))\n",
    "    sitk.WriteImage(img_gray_sitk, output_dirs[3]+ image.replace(\".jpg\", \".nii.gz\"))"
   ]
  },
  {
   "cell_type": "code",
   "execution_count": null,
   "metadata": {},
   "outputs": [],
   "source": [
    "for image in tqdm(mask_files, desc=\"Procesando segmentaciones\"):\n",
    "    # Leer máscara\n",
    "    mask_path = os.path.join(mask_folder, image)\n",
    "    mask = cv2.imread(mask_path, cv2.IMREAD_GRAYSCALE)\n",
    "    mask = np.where(mask > 0, 1, 0).astype(np.uint8)\n",
    "    \n",
    "    # Guardar máscara\n",
    "    mask_sitk = sitk.GetImageFromArray(mask)\n",
    "    sitk.WriteImage(mask_sitk, output_segmentation_dir + image.replace(\".png\", \".nii.gz\"))"
   ]
  },
  {
   "cell_type": "markdown",
   "metadata": {},
   "source": [
    "# Feature extractor"
   ]
  },
  {
   "cell_type": "code",
   "execution_count": 1,
   "metadata": {},
   "outputs": [],
   "source": [
    "from radiomics import featureextractor\n",
    "import pandas as pd\n",
    "import SimpleITK as sitk\n",
    "from tqdm import tqdm\n",
    "import radiomics\n",
    "import logging\n",
    "radiomics.setVerbosity(logging.ERROR)"
   ]
  },
  {
   "cell_type": "code",
   "execution_count": 2,
   "metadata": {},
   "outputs": [],
   "source": [
    "# Crear extractor\n",
    "extractor = featureextractor.RadiomicsFeatureExtractor()\n",
    "\n",
    "# Desactivar todas las características por defecto\n",
    "extractor.disableAllFeatures()\n",
    "\n",
    "# Activar las clases de características que queremos calcular\n",
    "features = [\"firstorder\", \"glcm\", \"gldm\", \"glrlm\", \"glszm\", \"ngtdm\", \"shape2D\"]\n",
    "for feature in features:\n",
    "    extractor.enableFeatureClassByName(feature)\n",
    "\n",
    "\n",
    "# Crear DataFrame vacío con image_id como índice\n",
    "df_resultados_r = pd.DataFrame()\n",
    "df_resultados_g = pd.DataFrame()\n",
    "df_resultados_b = pd.DataFrame()\n",
    "df_resultados_gray = pd.DataFrame()\n"
   ]
  },
  {
   "cell_type": "code",
   "execution_count": 3,
   "metadata": {},
   "outputs": [],
   "source": [
    "# Función para convertir listas/arrays a valores escalares\n",
    "def convertir_a_escalar(valor):\n",
    "    if isinstance(valor, (list, tuple, set)):  # Si es lista/tupla/conjunto\n",
    "        return valor[0]  # Tomar solo el primer valor\n",
    "    elif isinstance(valor, dict):  # Si es un diccionario, convertir a string\n",
    "        return str(valor)\n",
    "    return valor  # Si ya es escalar, devolverlo sin cambios"
   ]
  },
  {
   "cell_type": "code",
   "execution_count": 11,
   "metadata": {},
   "outputs": [
    {
     "name": "stderr",
     "output_type": "stream",
     "text": [
      "Extrayendo características: 100%|██████████| 10015/10015 [2:08:46<00:00,  1.30it/s] \n"
     ]
    }
   ],
   "source": [
    "# Iterar sobre las imágenes\n",
    "for image in tqdm(image_files, desc=\"Extrayendo características\"):\n",
    "    image_id = image.replace(\".jpg\", \"\")  # Obtener ID de la imagen\n",
    "\n",
    "    # Cargar imágenes en diferentes canales\n",
    "    img_r = sitk.ReadImage(output_dirs[2] + image.replace(\".jpg\", \".nii.gz\"))\n",
    "    img_g = sitk.ReadImage(output_dirs[1] + image.replace(\".jpg\", \".nii.gz\"))\n",
    "    img_b = sitk.ReadImage(output_dirs[0] + image.replace(\".jpg\", \".nii.gz\"))\n",
    "    img_gray = sitk.ReadImage(output_dirs[3] + image.replace(\".jpg\", \".nii.gz\"))\n",
    "\n",
    "    # Cargar máscara\n",
    "    mask = sitk.ReadImage(output_segmentation_dir + image_id + \"_segmentation.nii.gz\")\n",
    "\n",
    "    # Extraer características\n",
    "    resultados_r = extractor.execute(img_r, mask)\n",
    "    resultados_g = extractor.execute(img_g, mask)\n",
    "    resultados_b = extractor.execute(img_b, mask)\n",
    "    resultados_gray = extractor.execute(img_gray, mask)\n",
    "\n",
    "    # Convertir características a escalares y eliminar metadatos\n",
    "    df_r = pd.DataFrame({k: [convertir_a_escalar(v)] for k, v in resultados_r.items() if \"diagnostics_\" not in k}, index=[image_id])\n",
    "    df_g = pd.DataFrame({k: [convertir_a_escalar(v)] for k, v in resultados_g.items() if \"diagnostics_\" not in k}, index=[image_id])\n",
    "    df_b = pd.DataFrame({k: [convertir_a_escalar(v)] for k, v in resultados_b.items() if \"diagnostics_\" not in k}, index=[image_id])\n",
    "    df_gray = pd.DataFrame({k: [convertir_a_escalar(v)] for k, v in resultados_gray.items() if \"diagnostics_\" not in k}, index=[image_id])\n",
    "\n",
    "    # Concatenar resultados en el DataFrame final\n",
    "    df_resultados_r = pd.concat([df_resultados_r, df_r])\n",
    "    df_resultados_g = pd.concat([df_resultados_g, df_g])\n",
    "    df_resultados_b = pd.concat([df_resultados_b, df_b])\n",
    "    df_resultados_gray = pd.concat([df_resultados_gray, df_gray])\n",
    "\n",
    "\n"
   ]
  },
  {
   "cell_type": "code",
   "execution_count": 12,
   "metadata": {},
   "outputs": [
    {
     "name": "stdout",
     "output_type": "stream",
     "text": [
      "Extracción finalizada. Los archivos CSV están guardados correctamente.\n"
     ]
    }
   ],
   "source": [
    "# Asignar nombre a la columna del índice\n",
    "df_resultados_r.index.name = \"image_id\"\n",
    "df_resultados_g.index.name = \"image_id\"\n",
    "df_resultados_b.index.name = \"image_id\"\n",
    "df_resultados_gray.index.name = \"image_id\"\n",
    "\n",
    "# Guardar resultados\n",
    "df_resultados_r.to_csv(\"output/features/caracteristicas_radiomicas_rojo.csv\")\n",
    "df_resultados_g.to_csv(\"output/features/caracteristicas_radiomicas_verde.csv\")\n",
    "df_resultados_b.to_csv(\"output/features/caracteristicas_radiomicas_azul.csv\")\n",
    "df_resultados_gray.to_csv(\"output/features/caracteristicas_radiomicas_gray.csv\")\n",
    "\n",
    "print(\"Extracción finalizada. Los archivos CSV están guardados correctamente.\")"
   ]
  }
 ],
 "metadata": {
  "kernelspec": {
   "display_name": ".venv",
   "language": "python",
   "name": "python3"
  },
  "language_info": {
   "codemirror_mode": {
    "name": "ipython",
    "version": 3
   },
   "file_extension": ".py",
   "mimetype": "text/x-python",
   "name": "python",
   "nbconvert_exporter": "python",
   "pygments_lexer": "ipython3",
   "version": "3.7.0"
  }
 },
 "nbformat": 4,
 "nbformat_minor": 2
}
